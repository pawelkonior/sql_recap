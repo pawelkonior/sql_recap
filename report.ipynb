{
 "cells": [
  {
   "cell_type": "code",
   "id": "initial_id",
   "metadata": {
    "collapsed": true,
    "ExecuteTime": {
     "end_time": "2024-05-05T18:08:23.317901Z",
     "start_time": "2024-05-05T18:08:22.427240Z"
    }
   },
   "source": "import pandas as pd",
   "outputs": [],
   "execution_count": 1
  },
  {
   "metadata": {
    "ExecuteTime": {
     "end_time": "2024-05-05T18:12:48.741802Z",
     "start_time": "2024-05-05T18:12:48.739738Z"
    }
   },
   "cell_type": "code",
   "source": [
    "def add(a, b):\n",
    "    if not isinstance(a, (int, float)):\n",
    "        raise TypeError('a must be an integer or float')\n",
    "    \n",
    "    if not isinstance(b, (int, float)):\n",
    "        raise TypeError('b must be an integer or float')\n",
    "    \n",
    "    return a + b "
   ],
   "id": "4b3e87762fe1dfee",
   "outputs": [],
   "execution_count": 2
  },
  {
   "metadata": {
    "ExecuteTime": {
     "end_time": "2024-05-05T18:12:52.897025Z",
     "start_time": "2024-05-05T18:12:52.892815Z"
    }
   },
   "cell_type": "code",
   "source": "add(1, 2)",
   "id": "7610773cefbca9d4",
   "outputs": [
    {
     "data": {
      "text/plain": [
       "3"
      ]
     },
     "execution_count": 3,
     "metadata": {},
     "output_type": "execute_result"
    }
   ],
   "execution_count": 3
  },
  {
   "metadata": {},
   "cell_type": "code",
   "outputs": [],
   "execution_count": null,
   "source": "",
   "id": "4af8f3bcc88a3728"
  }
 ],
 "metadata": {
  "kernelspec": {
   "display_name": "Python 3",
   "language": "python",
   "name": "python3"
  },
  "language_info": {
   "codemirror_mode": {
    "name": "ipython",
    "version": 2
   },
   "file_extension": ".py",
   "mimetype": "text/x-python",
   "name": "python",
   "nbconvert_exporter": "python",
   "pygments_lexer": "ipython2",
   "version": "2.7.6"
  }
 },
 "nbformat": 4,
 "nbformat_minor": 5
}
